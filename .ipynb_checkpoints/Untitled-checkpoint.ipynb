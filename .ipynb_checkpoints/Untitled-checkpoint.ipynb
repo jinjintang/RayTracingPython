{
 "cells": [
  {
   "cell_type": "code",
   "execution_count": 3,
   "metadata": {},
   "outputs": [
    {
     "data": {
      "text/plain": [
       "True"
      ]
     },
     "execution_count": 3,
     "metadata": {},
     "output_type": "execute_result"
    }
   ],
   "source": [
    "import numpy as np\n",
    "import cv2\n",
    "def createTestPNG(w,h):\n",
    "    color=np.zeros([w,h,3])\n",
    "    for i in range(w):\n",
    "        for j in range(h):\n",
    "            color[i][j]=[0.2*255,j/w*255,i/w*255]\n",
    "    return color\n",
    "cv2.imwrite('./test.png',createTestPNG(480,640))\n"
   ]
  },
  {
   "cell_type": "code",
   "execution_count": 8,
   "metadata": {},
   "outputs": [],
   "source": [
    "import math"
   ]
  },
  {
   "cell_type": "code",
   "execution_count": 10,
   "metadata": {},
   "outputs": [],
   "source": [
    "def normalize(a):\n",
    "    return a/math.sqrt(sum(a**2))"
   ]
  },
  {
   "cell_type": "code",
   "execution_count": 11,
   "metadata": {},
   "outputs": [],
   "source": [
    "class Ray:\n",
    "    def __init__(self,o,d):\n",
    "        self.original=o\n",
    "        self.direction=d\n",
    "        self.nd=normalize(d)\n",
    "    def getpoint(t):\n",
    "        return self.original+t*self.direction"
   ]
  },
  {
   "cell_type": "code",
   "execution_count": 18,
   "metadata": {},
   "outputs": [],
   "source": [
    "def getcolor(ray):\n",
    "    t=0.5*(ray.nd[1]+1)\n",
    "    #return ((1-t)*np.array([1,1,1])+t*np.array([0.5,0.7,1]))*255\n",
    "    return([0,0,255])"
   ]
  },
  {
   "cell_type": "code",
   "execution_count": 19,
   "metadata": {},
   "outputs": [],
   "source": [
    "def createTestPNG(w,h):\n",
    "    color=np.zeros([w,h,3])\n",
    "    ll=np.array([-2,-1,1])\n",
    "    horizontal=np.array([4,0,0])\n",
    "    vertical=np.array([0,2,0])\n",
    "    original=np.array([0,0,0])\n",
    "    for i in range(w):\n",
    "        for j in range(h):\n",
    "            r=Ray(original,ll+horizontal*i/w+vertical*j/h)\n",
    "            color[i][j]=getcolor(r)\n",
    "    return color"
   ]
  },
  {
   "cell_type": "code",
   "execution_count": 20,
   "metadata": {},
   "outputs": [
    {
     "data": {
      "text/plain": [
       "True"
      ]
     },
     "execution_count": 20,
     "metadata": {},
     "output_type": "execute_result"
    }
   ],
   "source": [
    "cv2.imwrite('./test.png',createTestPNG(480,640))\n"
   ]
  },
  {
   "cell_type": "code",
   "execution_count": null,
   "metadata": {},
   "outputs": [],
   "source": []
  }
 ],
 "metadata": {
  "kernelspec": {
   "display_name": "Python 3",
   "language": "python",
   "name": "python3"
  },
  "language_info": {
   "codemirror_mode": {
    "name": "ipython",
    "version": 3
   },
   "file_extension": ".py",
   "mimetype": "text/x-python",
   "name": "python",
   "nbconvert_exporter": "python",
   "pygments_lexer": "ipython3",
   "version": "3.7.0"
  }
 },
 "nbformat": 4,
 "nbformat_minor": 2
}
