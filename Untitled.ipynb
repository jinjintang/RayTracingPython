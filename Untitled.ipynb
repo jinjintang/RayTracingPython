{
 "cells": [
  {
   "cell_type": "code",
   "execution_count": 17,
   "metadata": {},
   "outputs": [
    {
     "data": {
      "text/plain": [
       "True"
      ]
     },
     "execution_count": 17,
     "metadata": {},
     "output_type": "execute_result"
    }
   ],
   "source": [
    "import numpy as np\n",
    "import cv2\n",
    "def createTestPNG(w,h):\n",
    "    color=np.zeros([w,h,3])\n",
    "    for i in range(w):\n",
    "        for j in range(h):\n",
    "            color[i][j]=[0.2*255,j/w*255,i/w*255]\n",
    "    return color\n",
    "cv2.imwrite('./test.png',createTestPNG(480,640))\n"
   ]
  },
  {
   "cell_type": "code",
   "execution_count": 1,
   "metadata": {},
   "outputs": [],
   "source": [
    "import math"
   ]
  },
  {
   "cell_type": "code",
   "execution_count": 2,
   "metadata": {},
   "outputs": [],
   "source": [
    "def normalize(a):\n",
    "    return a/math.sqrt(sum(a**2))"
   ]
  },
  {
   "cell_type": "code",
   "execution_count": 3,
   "metadata": {},
   "outputs": [],
   "source": [
    "class Ray:\n",
    "    def __init__(self,o,d):\n",
    "        self.original=o\n",
    "        self.direction=d\n",
    "        self.nd=normalize(d)\n",
    "    def getpoint(self,t):\n",
    "        return self.original+t*self.direction"
   ]
  },
  {
   "cell_type": "code",
   "execution_count": 4,
   "metadata": {},
   "outputs": [],
   "source": [
    "def getcolor(ray):\n",
    "    t=0.5*(ray.nd[1]+1)\n",
    "    return ((1-t)*np.array([1,1,1])+t*np.array([0.5,0.7,1]))\n",
    "    #return([0,0,255])"
   ]
  },
  {
   "cell_type": "code",
   "execution_count": 213,
   "metadata": {},
   "outputs": [],
   "source": [
    "def createTestPNG(h,w):\n",
    "    color=np.zeros([h,w,3])\n",
    "    ll=np.array([-2,-1,1])\n",
    "    horizontal=np.array([4,0,0])\n",
    "    vertical=np.array([0,2,0])\n",
    "    original=np.array([0,0,0])\n",
    "    for i in range(w):\n",
    "        for j in range(h):\n",
    "            r=Ray(original,ll+horizontal*i/w+vertical*j/h)\n",
    "            color[j][i]=getcolor(r)\n",
    "    return color"
   ]
  },
  {
   "cell_type": "code",
   "execution_count": 42,
   "metadata": {},
   "outputs": [
    {
     "data": {
      "text/plain": [
       "True"
      ]
     },
     "execution_count": 42,
     "metadata": {},
     "output_type": "execute_result"
    }
   ],
   "source": [
    "cv2.imwrite('./test.png',createTestPNG(480,640))\n"
   ]
  },
  {
   "cell_type": "code",
   "execution_count": 85,
   "metadata": {},
   "outputs": [],
   "source": [
    "def Hit(center,radius,ray):\n",
    "    oc=ray.original-center\n",
    "    a=ray.direction.dot(ray.direction)\n",
    "    b = 2* oc.dot(ray.direction)\n",
    "    c = oc.dot(oc) - radius * radius\n",
    "   \n",
    "    discriminant = b * b - 4 * a * c\n",
    "    if discriminant<0:\n",
    "        return -1\n",
    "    else:\n",
    "        return (-b+math.sqrt(discriminant))/(2*a)"
   ]
  },
  {
   "cell_type": "code",
   "execution_count": 89,
   "metadata": {},
   "outputs": [],
   "source": [
    "def getcolorforsphere(ray):\n",
    "    t=Hit(np.array([0,0,-1]),0.5,ray)\n",
    "    if t>0:\n",
    "        normal = normalize(ray.getpoint(t) -np.array([0,0,-1]));\n",
    "        return 0.5* (normal+np.array([1,1,1]))*255\n",
    "   \n",
    "    return getcolor(ray)"
   ]
  },
  {
   "cell_type": "code",
   "execution_count": 90,
   "metadata": {},
   "outputs": [],
   "source": [
    "def createTestPNG(h,w):\n",
    "    color=np.zeros([h,w,3])\n",
    "    ll=np.array([-2,-1,-1])\n",
    "    horizontal=np.array([4,0,0])\n",
    "    vertical=np.array([0,2,0])\n",
    "    original=np.array([0,0,0])\n",
    "    for i in range(w):\n",
    "        for j in range(h):\n",
    "            r=Ray(original,ll+horizontal*i/w+vertical*j/h)\n",
    "            color[h-j-1][i]=getcolorforsphere(r)\n",
    "    return color"
   ]
  },
  {
   "cell_type": "code",
   "execution_count": 91,
   "metadata": {},
   "outputs": [
    {
     "data": {
      "text/plain": [
       "True"
      ]
     },
     "execution_count": 91,
     "metadata": {},
     "output_type": "execute_result"
    }
   ],
   "source": [
    "cv2.imwrite('./test.png',createTestPNG(200,400))\n"
   ]
  },
  {
   "cell_type": "code",
   "execution_count": 5,
   "metadata": {},
   "outputs": [],
   "source": [
    "class hitrecord:\n",
    "    def __init__(self,t,p,normal):\n",
    "        self.t=t\n",
    "        self.p=p\n",
    "        self.normal=normal\n"
   ]
  },
  {
   "cell_type": "code",
   "execution_count": 6,
   "metadata": {},
   "outputs": [],
   "source": [
    "from abc import ABCMeta,abstractmethod"
   ]
  },
  {
   "cell_type": "code",
   "execution_count": 7,
   "metadata": {},
   "outputs": [],
   "source": [
    "class Hitable(metaclass=ABCMeta):\n",
    "    @abstractmethod\n",
    "    def hit(self,ray,t_min,t_max):\n",
    "        pass"
   ]
  },
  {
   "cell_type": "code",
   "execution_count": 65,
   "metadata": {},
   "outputs": [],
   "source": [
    "class sphere(Hitable):\n",
    "    def __init__(self,center,radius,material):\n",
    "        self.center=center\n",
    "        self.radius=radius\n",
    "        self.material=material\n",
    "    def hit(self,ray,t_min,t_max):\n",
    "        oc=ray.original-self.center\n",
    "        a=ray.direction.dot(ray.direction)\n",
    "        b = 2* oc.dot(ray.direction)\n",
    "        c = oc.dot(oc) - self.radius * self.radius\n",
    "\n",
    "        discriminant = b * b - 4 * a * c\n",
    "        if discriminant<0:\n",
    "            return None\n",
    "        else:\n",
    "            temp= (-b-math.sqrt(discriminant))/(2*a)\n",
    "            \n",
    "            if (t_min<temp < t_max):\n",
    "                p=ray.getpoint(temp)\n",
    "                return hitrecord(temp,p,normalize((p - self.center)))\n",
    "            temp= (-b+math.sqrt(discriminant))/(2*a)\n",
    "            if (t_min<temp < t_max):\n",
    "                p=ray.getpoint(temp)\n",
    "                return hitrecord(temp,p,normalize((p - self.center)))\n",
    "\n",
    "            \n",
    "                "
   ]
  },
  {
   "cell_type": "code",
   "execution_count": 68,
   "metadata": {},
   "outputs": [],
   "source": [
    "class Hitablelist(Hitable):\n",
    "    def __init__(self):\n",
    "        self.hitablelist=[]\n",
    "    def hit(self,ray,t_min,t_max):\n",
    "        rec,hitanything=None,None\n",
    "        closest=t_max\n",
    "        for h in self.hitablelist:\n",
    "            temprecord= h.hit(ray,t_min,closest)\n",
    "            if temprecord!=None:\n",
    "               \n",
    "                hitanything=h.material\n",
    "                closest=temprecord.t\n",
    "                rec=temprecord\n",
    "        return hitanything,rec"
   ]
  },
  {
   "cell_type": "code",
   "execution_count": 10,
   "metadata": {},
   "outputs": [],
   "source": [
    "def getcolorforhitrecord(ray,hitablelist):\n",
    "    hitanything,rec=hitablelist.hit(ray=ray,t_min=0,t_max=float('inf'))\n",
    "    if hitanything:\n",
    "        return 0.5* (rec.normal+np.array([1,1,1]))*255\n",
    "    return getcolor(ray)"
   ]
  },
  {
   "cell_type": "code",
   "execution_count": 169,
   "metadata": {},
   "outputs": [],
   "source": [
    "def createTestPNG(h,w):\n",
    "    color=np.zeros([h,w,3])\n",
    "    ll=np.array([-2,-1,-1])\n",
    "    horizontal=np.array([4,0,0])\n",
    "    vertical=np.array([0,2,0])\n",
    "    original=np.array([0,0,0])\n",
    "    hl=Hitablelist()\n",
    "    hl.hitablelist.append(sphere(np.array([0,0,-1]),0.5))\n",
    "    hl.hitablelist.append(sphere(np.array([0,-100.5,-1]),100))\n",
    "    for i in range(w):\n",
    "        for j in range(h):\n",
    "            r=Ray(original,ll+horizontal*i/w+vertical*j/h)\n",
    "            color[h-j-1][i]=getcolorforhitrecord(r,hl)\n",
    "    return color"
   ]
  },
  {
   "cell_type": "code",
   "execution_count": 21,
   "metadata": {},
   "outputs": [],
   "source": [
    "import random"
   ]
  },
  {
   "cell_type": "code",
   "execution_count": 173,
   "metadata": {},
   "outputs": [
    {
     "data": {
      "text/plain": [
       "0.5449148048125445"
      ]
     },
     "execution_count": 173,
     "metadata": {},
     "output_type": "execute_result"
    }
   ],
   "source": [
    "random.random()"
   ]
  },
  {
   "cell_type": "code",
   "execution_count": 176,
   "metadata": {},
   "outputs": [],
   "source": [
    "def createTestPNG(h,w):\n",
    "    color=np.zeros([h,w,3])\n",
    "    ll=np.array([-2,-1,-1])\n",
    "    horizontal=np.array([4,0,0])\n",
    "    vertical=np.array([0,2,0])\n",
    "    original=np.array([0,0,0])\n",
    "    hl=Hitablelist()\n",
    "    hl.hitablelist.append(sphere(np.array([0,0,-1]),0.5))\n",
    "    hl.hitablelist.append(sphere(np.array([0,-100.5,-1]),100))\n",
    "    sample=100\n",
    "    \n",
    "    for i in range(w):\n",
    "        for j in range(h):\n",
    "            for s in range(sample):\n",
    "                r=Ray(original,ll+horizontal*(i+(random.random()))/w+vertical*(j+random.random())/h)\n",
    "                color[h-j-1][i]+=getcolorforhitrecord(r,hl)*1/sample\n",
    "    return color"
   ]
  },
  {
   "cell_type": "code",
   "execution_count": 177,
   "metadata": {},
   "outputs": [
    {
     "data": {
      "text/plain": [
       "True"
      ]
     },
     "execution_count": 177,
     "metadata": {},
     "output_type": "execute_result"
    }
   ],
   "source": [
    "cv2.imwrite('./test.png',createTestPNG(200,400))\n"
   ]
  },
  {
   "cell_type": "code",
   "execution_count": 11,
   "metadata": {},
   "outputs": [],
   "source": [
    "def getRandomPointinUnitSphereforDiffusing():\n",
    "    return normalize(2*np.random.random_sample(3)-np.ones(3))*random.random()\n"
   ]
  },
  {
   "cell_type": "code",
   "execution_count": 31,
   "metadata": {},
   "outputs": [],
   "source": [
    "def getcolorfordiffusing(ray,hitablelist):\n",
    "    hitanything,rec=hitablelist.hit(ray=ray,t_min=0,t_max=float('inf'))\n",
    "    if hitanything:\n",
    "        target=rec.p+rec.normal+getRandomPointinUnitSphereforDiffusing()\n",
    "        return 0.5* getcolorfordiffusing(Ray(rec.p,target-rec.p),hitablelist)\n",
    "    return getcolor(ray)"
   ]
  },
  {
   "cell_type": "code",
   "execution_count": 19,
   "metadata": {},
   "outputs": [],
   "source": [
    "def createTestPNG(h,w):\n",
    "    color=np.zeros([h,w,3])\n",
    "    ll=np.array([-2,-1,-1])\n",
    "    horizontal=np.array([4,0,0])\n",
    "    vertical=np.array([0,2,0])\n",
    "    original=np.array([0,0,0])\n",
    "    hl=Hitablelist()\n",
    "    hl.hitablelist.append(sphere(np.array([0,0,-1]),0.5))\n",
    "    hl.hitablelist.append(sphere(np.array([0,-100.5,-1]),100))\n",
    "    sample=100\n",
    "    \n",
    "    for i in range(w):\n",
    "        for j in range(h):\n",
    "            for s in range(sample):\n",
    "                r=Ray(original,ll+horizontal*(i+(random.random()))/w+vertical*(j+random.random())/h)\n",
    "                color[h-j-1][i]+=np.sqrt(getcolorfordiffusing(r,hl))*255/sample\n",
    "    return color"
   ]
  },
  {
   "cell_type": "code",
   "execution_count": 32,
   "metadata": {},
   "outputs": [],
   "source": [
    "img=createTestPNG(100,200)"
   ]
  },
  {
   "cell_type": "code",
   "execution_count": 33,
   "metadata": {},
   "outputs": [
    {
     "data": {
      "text/plain": [
       "True"
      ]
     },
     "execution_count": 33,
     "metadata": {},
     "output_type": "execute_result"
    }
   ],
   "source": [
    "cv2.imwrite('./test.png',img)\n"
   ]
  },
  {
   "cell_type": "code",
   "execution_count": 36,
   "metadata": {},
   "outputs": [],
   "source": [
    "x=[]\n",
    "for i in range(10000):\n",
    "    x.append(random.rand())"
   ]
  },
  {
   "cell_type": "code",
   "execution_count": 37,
   "metadata": {},
   "outputs": [],
   "source": [
    "import matplotlib.pyplot as plt"
   ]
  },
  {
   "cell_type": "code",
   "execution_count": 42,
   "metadata": {},
   "outputs": [
    {
     "data": {
      "text/plain": [
       "(array([401., 415., 366., 396., 427., 422., 381., 417., 396., 379.]),\n",
       " array([8.57868830e-04, 1.00763282e-01, 2.00668696e-01, 3.00574110e-01,\n",
       "        4.00479523e-01, 5.00384937e-01, 6.00290351e-01, 7.00195764e-01,\n",
       "        8.00101178e-01, 9.00006592e-01, 9.99912005e-01]),\n",
       " <a list of 10 Patch objects>)"
      ]
     },
     "execution_count": 42,
     "metadata": {},
     "output_type": "execute_result"
    },
    {
     "data": {
      "image/png": "[encoded data removed]",
      "text/plain": [
       "<Figure size 432x288 with 1 Axes>"
      ]
     },
     "metadata": {
      "needs_background": "light"
     },
     "output_type": "display_data"
    }
   ],
   "source": [
    "plt.hist(np.array(np.random.random_sample(4000)))"
   ]
  },
  {
   "cell_type": "code",
   "execution_count": 44,
   "metadata": {},
   "outputs": [],
   "source": [
    "class material(metaclass=ABCMeta):\n",
    "    @abstractmethod\n",
    "    def scatter(self,ray,rec):\n",
    "        pass"
   ]
  },
  {
   "cell_type": "code",
   "execution_count": 70,
   "metadata": {},
   "outputs": [],
   "source": [
    "class lambertian(material):\n",
    "    def __init__(self,color):\n",
    "        self.color=color\n",
    "    def scatter(self,ray,rec):\n",
    "        target=rec.p+rec.normal+getRandomPointinUnitSphereforDiffusing()\n",
    "        self.scattered=Ray(rec.p,target-rec.p)\n",
    "        return True\n",
    "    "
   ]
  },
  {
   "cell_type": "code",
   "execution_count": 77,
   "metadata": {},
   "outputs": [],
   "source": [
    "class metal(material):\n",
    "    def __init__(self,color):\n",
    "        self.color=color\n",
    "    def scatter(self,ray,rec):\n",
    "        reflected=self.reflect(ray.nd,rec.normal)\n",
    "        self.scattered=Ray(rec.p,reflected)\n",
    "        return self.scattered.direction.dot(rec.normal)>0\n",
    "    def reflect(self,vin,normal):\n",
    "        return vin-2*vin.dot(normal)*normal"
   ]
  },
  {
   "cell_type": "code",
   "execution_count": 86,
   "metadata": {},
   "outputs": [],
   "source": [
    "class metal(material):\n",
    "    def __init__(self,color):\n",
    "        self.color=color\n",
    "    def scatter(self,ray,rec):\n",
    "        reflected=self.reflect(ray.nd,rec.normal)\n",
    "        fuzz=0.5\n",
    "        self.scattered=Ray(rec.p,reflected+fuzz*(rec.normal+getRandomPointinUnitSphereforDiffusing()))\n",
    "        return self.scattered.direction.dot(rec.normal)>0\n",
    "    def reflect(self,vin,normal):\n",
    "        return vin-2*vin.dot(normal)*normal"
   ]
  },
  {
   "cell_type": "code",
   "execution_count": 75,
   "metadata": {},
   "outputs": [],
   "source": [
    "MAX_SCATTER_TIME=100"
   ]
  },
  {
   "cell_type": "code",
   "execution_count": 72,
   "metadata": {},
   "outputs": [],
   "source": [
    "def getcolorformetal(ray,hitablelist,depth):\n",
    "    hitanything,rec=hitablelist.hit(ray=ray,t_min=0,t_max=float('inf'))\n",
    "    if hitanything!=None:\n",
    "        if depth<MAX_SCATTER_TIME and hitanything.scatter(ray,rec):\n",
    "            return hitanything.color*getcolorformetal(hitanything.scattered,hitablelist,depth+1)\n",
    "        else:\n",
    "            return np.array([0,0,0])\n",
    "    return getcolor(ray)"
   ]
  },
  {
   "cell_type": "code",
   "execution_count": 90,
   "metadata": {},
   "outputs": [],
   "source": [
    "def createTestPNG(h,w):\n",
    "    color=np.zeros([h,w,3])\n",
    "    ll=np.array([-2,-1,-1])\n",
    "    horizontal=np.array([4,0,0])\n",
    "    vertical=np.array([0,2,0])\n",
    "    original=np.array([0,0,0])\n",
    "    hl=Hitablelist()\n",
    "    hl.hitablelist.append(sphere(np.array([0,0,-1]),0.5,material=lambertian(np.array([0.4,0.3,0.3]))))\n",
    "    hl.hitablelist.append(sphere(np.array([1,0,-1]),0.5,material=metal(np.array([0.4,0.3,0.3]))))\n",
    "    hl.hitablelist.append(sphere(np.array([-1,0,-1]),0.5,material=metal(np.array([0.4,0.3,0.3]))))\n",
    "    hl.hitablelist.append(sphere(np.array([0,-100.5,-1]),100,material=metal(np.array([0.8,0.6,0.5]))))\n",
    "    sample=100\n",
    "    \n",
    "    for i in range(w):\n",
    "        for j in range(h):\n",
    "            for s in range(sample):\n",
    "                r=Ray(original,ll+horizontal*(i+(random.random()))/w+vertical*(j+random.random())/h)\n",
    "                color[h-j-1][i]+=np.sqrt(getcolorformetal(r,hl,0))*255/sample\n",
    "    return color"
   ]
  },
  {
   "cell_type": "code",
   "execution_count": 91,
   "metadata": {},
   "outputs": [],
   "source": [
    "img=createTestPNG(100,200)"
   ]
  },
  {
   "cell_type": "code",
   "execution_count": 92,
   "metadata": {},
   "outputs": [
    {
     "data": {
      "text/plain": [
       "True"
      ]
     },
     "execution_count": 92,
     "metadata": {},
     "output_type": "execute_result"
    }
   ],
   "source": [
    "cv2.imwrite('./test.png',img)\n"
   ]
  },
  {
   "cell_type": "code",
   "execution_count": null,
   "metadata": {},
   "outputs": [],
   "source": []
  }
 ],
 "metadata": {
  "kernelspec": {
   "display_name": "Python 3",
   "language": "python",
   "name": "python3"
  },
  "language_info": {
   "codemirror_mode": {
    "name": "ipython",
    "version": 3
   },
   "file_extension": ".py",
   "mimetype": "text/x-python",
   "name": "python",
   "nbconvert_exporter": "python",
   "pygments_lexer": "ipython3",
   "version": "3.7.0"
  }
 },
 "nbformat": 4,
 "nbformat_minor": 2
}
